{
  "cells": [
    {
      "cell_type": "markdown",
      "metadata": {
        "id": "WkMmyR5uCxHI"
      },
      "source": [
        "# Imports and installations"
      ]
    },
    {
      "cell_type": "code",
      "execution_count": null,
      "metadata": {
        "id": "VSDksR07fL4W"
      },
      "outputs": [],
      "source": [
        "import os\n",
        "import pandas as pd\n",
        "import numpy as np\n",
        "import matplotlib.pyplot as plt\n",
        "import seaborn as sns #visualisation\n",
        "from matplotlib import rcParams, figure\n",
        "from scipy.stats import variation, mode, moment, linregress, norm\n",
        "from scipy import stats\n",
        "import matplotlib.patheffects as path_effects\n",
        "import math\n",
        "from pandas.plotting import parallel_coordinates\n",
        "import matplotlib\n",
        "import math\n",
        "\n",
        "import warnings \n",
        "warnings.simplefilter(action='ignore', category=FutureWarning)\n",
        "\n",
        "%matplotlib inline \n",
        "sns.set(color_codes=True)"
      ]
    },
    {
      "cell_type": "code",
      "execution_count": null,
      "metadata": {
        "id": "kc0LFm4KCb_t"
      },
      "outputs": [],
      "source": [
        "!pip install bioinfokit\n",
        "!pip install pingouin"
      ]
    },
    {
      "cell_type": "markdown",
      "metadata": {
        "id": "02ZCfgdlCult"
      },
      "source": [
        "# Utilities"
      ]
    },
    {
      "cell_type": "code",
      "execution_count": null,
      "metadata": {
        "id": "GAxWd_6vCvZY"
      },
      "outputs": [],
      "source": [
        "from scipy import stats\n",
        "\n",
        "def spearmanr_ci(x,y,alpha=0.05):\n",
        "    ''' calculate Spearman correlation along with the confidence interval using scipy and numpy\n",
        "    Parameters\n",
        "    ----------\n",
        "    x, y : iterable object such as a list or np.array\n",
        "      Input for correlation calculation\n",
        "    alpha : float\n",
        "      Significance level. 0.05 by default\n",
        "    Returns\n",
        "    -------\n",
        "    r : float\n",
        "      Spearman's correlation coefficient\n",
        "    pval : float\n",
        "      The corresponding p value\n",
        "    lo, hi : float\n",
        "      The lower and upper bound of confidence intervals\n",
        "    '''\n",
        "\n",
        "    r, p = stats.spearmanr(x,y)\n",
        "    r_z = np.arctanh(r)\n",
        "    se = 1/np.sqrt(x.size-3)\n",
        "    z = stats.norm.ppf(1-alpha/2)\n",
        "    lo_z, hi_z = r_z-z*se, r_z+z*se\n",
        "    lo, hi = np.tanh((lo_z, hi_z))\n",
        "    return r, p, lo, hi"
      ]
    },
    {
      "cell_type": "code",
      "execution_count": null,
      "metadata": {
        "id": "bGcEiBKpC5OZ"
      },
      "outputs": [],
      "source": [
        "MEASURES_MAP = {\n",
        "    'FA': \"fa_mean\",\n",
        "    'MD': \"md_mean\",\n",
        "    'AD': \"ad_mean\",\n",
        "    'RD': \"rd_mean\",\n",
        "}"
      ]
    },
    {
      "cell_type": "code",
      "execution_count": null,
      "metadata": {
        "id": "pe-uDvfDDUfB"
      },
      "outputs": [],
      "source": [
        "out_path = Path(__file__).parent.parent.joinpath('results')"
      ]
    },
    {
      "cell_type": "markdown",
      "metadata": {},
      "source": [
        "# Load data"
      ]
    },
    {
      "cell_type": "code",
      "execution_count": null,
      "metadata": {},
      "outputs": [],
      "source": [
        "df = pd.read_excel(\"../data/subjects.xlsx\")"
      ]
    },
    {
      "cell_type": "markdown",
      "metadata": {
        "id": "AM1eoKS7Szxg"
      },
      "source": [
        "## FA|MD|AD|RD ~ age \n",
        "No gender distinction"
      ]
    },
    {
      "cell_type": "code",
      "execution_count": null,
      "metadata": {
        "id": "BWpwdOL5DAVo"
      },
      "outputs": [],
      "source": [
        "from itertools import product\n",
        "\n",
        "measures = ['FA', 'MD', 'AD', 'RD']\n",
        "sub_cols = ['r', 'CI', 'P', 'P corr']\n",
        "col_index = pd.MultiIndex.from_tuples(list(product(measures, sub_cols)))\n",
        "\n",
        "columns = measures + ['Test']\n",
        "structures = df['structure'].unique()\n",
        "\n",
        "corr = pd.DataFrame(columns=col_index, index=structures)"
      ]
    },
    {
      "cell_type": "code",
      "execution_count": null,
      "metadata": {
        "id": "WC_5feh4DENN"
      },
      "outputs": [],
      "source": [
        "from scipy.stats import pearsonr, shapiro, spearmanr\n",
        "from bioinfokit.analys import stat\n",
        "\n",
        "alpha = 0.05\n",
        "\n",
        "for structure in structures:\n",
        "  print(\"Current structure: \", structure)\n",
        "  for measure in measures:\n",
        "    col_name = MEASURES_MAP[measure]\n",
        "\n",
        "    structure_df = df[df['structure'] == structure]\n",
        "    measure_avgs = structure_df[col_name]\n",
        "    age = structure_df['age']\n",
        "\n",
        "    r, p, lo, hi = spearmanr_ci(measure_avgs, age)\n",
        "    ci = f'[{round(lo, 2)} {round(hi,2)}]'\n",
        "\n",
        "    # add row to corr dataframe\n",
        "    corr.loc[structure, (measure, slice(None))] = [round(r,2), ci, round(p,3), None]"
      ]
    },
    {
      "cell_type": "code",
      "execution_count": null,
      "metadata": {
        "id": "9bAwzV5iDG1h"
      },
      "outputs": [],
      "source": [
        "for measure in measures:\n",
        "  # replace P values < 0.001 with <.001\n",
        "  corr.loc[:, (measure, 'P')] = corr.loc[:, (measure, 'P')].apply(lambda v: '<.001' if v <= 0.001 else v)\n",
        "  \n",
        "  # remove leading 0 in P values\n",
        "  corr.loc[:, (measure, 'P')] = corr.loc[:, (measure, 'P')].apply(lambda v: str(v).replace('0.', '.', 1))"
      ]
    },
    {
      "cell_type": "code",
      "execution_count": null,
      "metadata": {
        "id": "hhNVyTkHDFZS"
      },
      "outputs": [],
      "source": [
        "corr.to_excel(f'{out_path}/correlations_age_DTI.xlsx')"
      ]
    },
    {
      "cell_type": "markdown",
      "metadata": {
        "id": "mpLSpCz1D7Gm"
      },
      "source": [
        "## Partial correlations"
      ]
    },
    {
      "cell_type": "code",
      "execution_count": null,
      "metadata": {
        "id": "vv8zl8f6D8If"
      },
      "outputs": [],
      "source": [
        "# create base dataframe \n",
        "heading = ['r', '95% CI', 'p', 'p adj', 'test']\n",
        "structures = df['structure'].unique()\n",
        "measures = ['FA', 'MD', 'AD', 'RD']\n",
        "\n",
        "pcor = pd.DataFrame(columns=heading, index=structures)"
      ]
    },
    {
      "cell_type": "markdown",
      "metadata": {
        "id": "dEfagXmMTQ7g"
      },
      "source": [
        "### FA ~ Age + AD"
      ]
    },
    {
      "cell_type": "code",
      "execution_count": null,
      "metadata": {
        "id": "j1FK4DyxUEAQ"
      },
      "outputs": [],
      "source": [
        "from pingouin import partial_corr\n",
        "from bioinfokit.analys import stat\n",
        "\n",
        "alpha = 0.05\n",
        "pcor_ad = pcor.copy()\n",
        "\n",
        "for structure in structures:  \n",
        "  structure_df = df[df['structure'] == structure]\n",
        "  method = 'spearman'\n",
        "  \n",
        "  res = partial_corr(structure_df, 'age', 'fa_mean', 'ad_mean',\n",
        "                              method=method)\n",
        "  r = round(res['r'].values[0], 2)\n",
        "  p = round(res['p-val'].values[0], 3)\n",
        "  ci = res['CI95%'].values[0]\n",
        "\n",
        "  # add row to corr dataframe\n",
        "  pcor_ad.loc[structure, :] = np.array([r, ci, p, None, method], dtype='object')"
      ]
    },
    {
      "cell_type": "code",
      "execution_count": null,
      "metadata": {
        "id": "X44F8QtPaGRL"
      },
      "outputs": [],
      "source": [
        "from statsmodels.stats.multitest import multipletests\n",
        "\n",
        "pvals = pcor_ad['p']\n",
        "reject_list, corrected_p_vals = multipletests(pvals, method='fdr_bh', alpha=0.05)[:2]\n",
        "\n",
        "# format raw P values\n",
        "p_form_raw = ['<.001' if p < 0.001 else str(round(p, 3)) for p in pvals]\n",
        "p_form_raw = list(map(lambda p: p.replace('0.', '.'), p_form_raw))       \n",
        "\n",
        "pcor_ad['p'] = p_form_raw"
      ]
    },
    {
      "cell_type": "code",
      "execution_count": null,
      "metadata": {
        "id": "dqod8YCjcLlk"
      },
      "outputs": [],
      "source": [
        "pcor_ad.to_excel(f'{out_path}/partial_correlations_FA_age_AD.xlsx')"
      ]
    },
    {
      "cell_type": "markdown",
      "metadata": {
        "id": "Ouly7553FAwS"
      },
      "source": [
        "### FA ~ Age + RD"
      ]
    },
    {
      "cell_type": "code",
      "execution_count": null,
      "metadata": {
        "id": "lwqTi02-FAwS"
      },
      "outputs": [],
      "source": [
        "from pingouin import partial_corr\n",
        "from bioinfokit.analys import stat\n",
        "\n",
        "alpha = 0.05\n",
        "pcor_rd = pcor.copy()\n",
        "\n",
        "for structure in structures:  \n",
        "  structure_df = df[df['structure'] == structure]\n",
        "  method = 'spearman'\n",
        "  \n",
        "  res = partial_corr(structure_df, 'age', 'fa_mean', 'rd_mean',\n",
        "                              method=method)\n",
        "  r = round(res['r'].values[0], 2)\n",
        "  p = round(res['p-val'].values[0], 3)\n",
        "  ci = res['CI95%'].values[0]\n",
        "\n",
        "  # add row to corr dataframe\n",
        "  pcor_rd.loc[structure, :] = np.array([r, ci, p, None, method], dtype='object')"
      ]
    },
    {
      "cell_type": "code",
      "execution_count": null,
      "metadata": {
        "id": "w60GrtKVFAwS"
      },
      "outputs": [],
      "source": [
        "from statsmodels.stats.multitest import multipletests\n",
        "\n",
        "pvals = pcor_rd['p']\n",
        "reject_list, corrected_p_vals = multipletests(pvals, method='fdr_bh', alpha=0.05)[:2]\n",
        "\n",
        "# format raw P values\n",
        "p_form_raw = ['<.001' if p < 0.001 else str(round(p, 3)) for p in pvals]\n",
        "p_form_raw = list(map(lambda p: p.replace('0.', '.'), p_form_raw))       \n",
        "\n",
        "pcor_rd['p'] = p_form_raw"
      ]
    },
    {
      "cell_type": "code",
      "execution_count": null,
      "metadata": {
        "id": "M-3AubJ6FAwT"
      },
      "outputs": [],
      "source": [
        "pcor_rd.to_excel(f'{out_path}/partial_correlations_FA_age_RD.xlsx')"
      ]
    },
    {
      "cell_type": "markdown",
      "metadata": {
        "id": "twgwgswgFKG_"
      },
      "source": [
        "### FA ~ Age + MD"
      ]
    },
    {
      "cell_type": "code",
      "execution_count": null,
      "metadata": {
        "id": "W40QbfVXFKG_"
      },
      "outputs": [],
      "source": [
        "from pingouin import partial_corr\n",
        "from bioinfokit.analys import stat\n",
        "\n",
        "alpha = 0.05\n",
        "pcor_md = pcor.copy()\n",
        "\n",
        "for structure in structures:  \n",
        "  structure_df = df[df['structure'] == structure]\n",
        "  method = 'spearman'\n",
        "  \n",
        "  res = partial_corr(structure_df, 'age', 'fa_mean', 'md_mean',\n",
        "                              method=method)\n",
        "  r = round(res['r'].values[0], 2)\n",
        "  p = round(res['p-val'].values[0], 3)\n",
        "  ci = res['CI95%'].values[0]\n",
        "\n",
        "  # add row to corr dataframe\n",
        "  pcor_md.loc[structure, :] = np.array([r, ci, p, None, method], dtype='object')"
      ]
    },
    {
      "cell_type": "code",
      "execution_count": null,
      "metadata": {
        "id": "I19kCB5NFKHA"
      },
      "outputs": [],
      "source": [
        "from statsmodels.stats.multitest import multipletests\n",
        "\n",
        "pvals = pcor_md['p']\n",
        "reject_list, corrected_p_vals = multipletests(pvals, method='fdr_bh', alpha=0.05)[:2]\n",
        "\n",
        "# format raw P values\n",
        "p_form_raw = ['<.001' if p < 0.001 else str(round(p, 3)) for p in pvals]\n",
        "p_form_raw = list(map(lambda p: p.replace('0.', '.'), p_form_raw))       \n",
        "\n",
        "pcor_md['p'] = p_form_raw"
      ]
    },
    {
      "cell_type": "code",
      "execution_count": null,
      "metadata": {
        "id": "bRiOKuOCFKHA"
      },
      "outputs": [],
      "source": [
        "pcor_md.to_excel(f'{out_path}/partial_correlations_FA_age_MD.xlsx')"
      ]
    }
  ],
  "metadata": {
    "colab": {
      "collapsed_sections": [
        "dEfagXmMTQ7g",
        "Ouly7553FAwS",
        "twgwgswgFKG_"
      ],
      "name": "Statistical Analysis.ipynb",
      "provenance": []
    },
    "kernelspec": {
      "display_name": "Python 3",
      "name": "python3"
    },
    "language_info": {
      "name": "python"
    }
  },
  "nbformat": 4,
  "nbformat_minor": 0
}
